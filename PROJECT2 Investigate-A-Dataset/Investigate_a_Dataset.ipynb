{
 "cells": [
  {
   "cell_type": "markdown",
   "metadata": {},
   "source": [
    "\n",
    "----\n",
    "# Project 1: Investigate a dataset.\n",
    "\n",
    "### The Selected Dataset: **TMDB** dataset.\n",
    "\n",
    "-----\n",
    "## Table of Contents\n",
    "<ul>\n",
    "<li><a href=\"#intro\">Introduction</a></li>\n",
    "<li><a href=\"#wrangling\">Data Wrangling</a></li>\n",
    "<li><a href=\"#eda\">Exploratory Data Analysis</a></li>\n",
    "<li><a href=\"#conclusions\">Conclusions</a></li>\n",
    "</ul>"
   ]
  },
  {
   "cell_type": "markdown",
   "metadata": {},
   "source": [
    "<a id='intro'></a>\n",
    "## Introduction\n",
    "---\n",
    "\n",
    "> I've chosen the TMDB dataset from [Kaggle](https://www.kaggle.com/tmdb/tmdb-movie-metadata) to Investigate. \n",
    "It was originally sourced from IMDB but got replaced after takedown request.\n",
    "\n",
    "> I've **Questions** like: <br>\n",
    "        1- What is the most profitable movie? <br>\n",
    "        2- Movies average runtime. <br>\n",
    "    \t3- Is there a relationship between release_year and profit? What's the most profitable year? <br>\n",
    "        4- Frequent Used Genres in Profitable Movies. <br>\n",
    "        \n",
    "        \n",
    "        \n",
    "---\n",
    "\n",
    "\n",
    "##### import packages"
   ]
  },
  {
   "cell_type": "code",
   "execution_count": 1,
   "metadata": {},
   "outputs": [],
   "source": [
    "import pandas as pd\n",
    "import numpy as np\n",
    "%matplotlib inline\n",
    "\n",
    "import matplotlib.pyplot as plt"
   ]
  },
  {
   "cell_type": "markdown",
   "metadata": {},
   "source": [
    "<a id='wrangling'></a>\n",
    "## Data Wrangling\n",
    "\n",
    "><ul> <li>Loading data using Pandas DataFrame </li> <li> Data Viewing (number of rows and columns, datatypes, non-null values count and unique values count. </li>\n",
    "</ul>\n",
    "\n",
    "### General Properties"
   ]
  },
  {
   "cell_type": "code",
   "execution_count": 2,
   "metadata": {},
   "outputs": [],
   "source": [
    "pd.options.display.float_format = '{:20,.2f}'.format\n",
    "Movies = pd.read_csv('tmdb-movies.csv')"
   ]
  },
  {
   "cell_type": "code",
   "execution_count": 3,
   "metadata": {},
   "outputs": [
    {
     "data": {
      "text/html": [
       "<div>\n",
       "<style scoped>\n",
       "    .dataframe tbody tr th:only-of-type {\n",
       "        vertical-align: middle;\n",
       "    }\n",
       "\n",
       "    .dataframe tbody tr th {\n",
       "        vertical-align: top;\n",
       "    }\n",
       "\n",
       "    .dataframe thead th {\n",
       "        text-align: right;\n",
       "    }\n",
       "</style>\n",
       "<table border=\"1\" class=\"dataframe\">\n",
       "  <thead>\n",
       "    <tr style=\"text-align: right;\">\n",
       "      <th></th>\n",
       "      <th>id</th>\n",
       "      <th>imdb_id</th>\n",
       "      <th>popularity</th>\n",
       "      <th>budget</th>\n",
       "      <th>revenue</th>\n",
       "      <th>original_title</th>\n",
       "      <th>cast</th>\n",
       "      <th>homepage</th>\n",
       "      <th>director</th>\n",
       "      <th>tagline</th>\n",
       "      <th>...</th>\n",
       "      <th>overview</th>\n",
       "      <th>runtime</th>\n",
       "      <th>genres</th>\n",
       "      <th>production_companies</th>\n",
       "      <th>release_date</th>\n",
       "      <th>vote_count</th>\n",
       "      <th>vote_average</th>\n",
       "      <th>release_year</th>\n",
       "      <th>budget_adj</th>\n",
       "      <th>revenue_adj</th>\n",
       "    </tr>\n",
       "  </thead>\n",
       "  <tbody>\n",
       "    <tr>\n",
       "      <th>0</th>\n",
       "      <td>135397</td>\n",
       "      <td>tt0369610</td>\n",
       "      <td>32.99</td>\n",
       "      <td>150000000</td>\n",
       "      <td>1513528810</td>\n",
       "      <td>Jurassic World</td>\n",
       "      <td>Chris Pratt|Bryce Dallas Howard|Irrfan Khan|Vi...</td>\n",
       "      <td>http://www.jurassicworld.com/</td>\n",
       "      <td>Colin Trevorrow</td>\n",
       "      <td>The park is open.</td>\n",
       "      <td>...</td>\n",
       "      <td>Twenty-two years after the events of Jurassic ...</td>\n",
       "      <td>124</td>\n",
       "      <td>Action|Adventure|Science Fiction|Thriller</td>\n",
       "      <td>Universal Studios|Amblin Entertainment|Legenda...</td>\n",
       "      <td>6/9/15</td>\n",
       "      <td>5562</td>\n",
       "      <td>6.50</td>\n",
       "      <td>2015</td>\n",
       "      <td>137,999,939.28</td>\n",
       "      <td>1,392,445,892.52</td>\n",
       "    </tr>\n",
       "    <tr>\n",
       "      <th>1</th>\n",
       "      <td>76341</td>\n",
       "      <td>tt1392190</td>\n",
       "      <td>28.42</td>\n",
       "      <td>150000000</td>\n",
       "      <td>378436354</td>\n",
       "      <td>Mad Max: Fury Road</td>\n",
       "      <td>Tom Hardy|Charlize Theron|Hugh Keays-Byrne|Nic...</td>\n",
       "      <td>http://www.madmaxmovie.com/</td>\n",
       "      <td>George Miller</td>\n",
       "      <td>What a Lovely Day.</td>\n",
       "      <td>...</td>\n",
       "      <td>An apocalyptic story set in the furthest reach...</td>\n",
       "      <td>120</td>\n",
       "      <td>Action|Adventure|Science Fiction|Thriller</td>\n",
       "      <td>Village Roadshow Pictures|Kennedy Miller Produ...</td>\n",
       "      <td>5/13/15</td>\n",
       "      <td>6185</td>\n",
       "      <td>7.10</td>\n",
       "      <td>2015</td>\n",
       "      <td>137,999,939.28</td>\n",
       "      <td>348,161,292.49</td>\n",
       "    </tr>\n",
       "    <tr>\n",
       "      <th>2</th>\n",
       "      <td>262500</td>\n",
       "      <td>tt2908446</td>\n",
       "      <td>13.11</td>\n",
       "      <td>110000000</td>\n",
       "      <td>295238201</td>\n",
       "      <td>Insurgent</td>\n",
       "      <td>Shailene Woodley|Theo James|Kate Winslet|Ansel...</td>\n",
       "      <td>http://www.thedivergentseries.movie/#insurgent</td>\n",
       "      <td>Robert Schwentke</td>\n",
       "      <td>One Choice Can Destroy You</td>\n",
       "      <td>...</td>\n",
       "      <td>Beatrice Prior must confront her inner demons ...</td>\n",
       "      <td>119</td>\n",
       "      <td>Adventure|Science Fiction|Thriller</td>\n",
       "      <td>Summit Entertainment|Mandeville Films|Red Wago...</td>\n",
       "      <td>3/18/15</td>\n",
       "      <td>2480</td>\n",
       "      <td>6.30</td>\n",
       "      <td>2015</td>\n",
       "      <td>101,199,955.47</td>\n",
       "      <td>271,619,025.41</td>\n",
       "    </tr>\n",
       "  </tbody>\n",
       "</table>\n",
       "<p>3 rows × 21 columns</p>\n",
       "</div>"
      ],
      "text/plain": [
       "       id    imdb_id           popularity     budget     revenue  \\\n",
       "0  135397  tt0369610                32.99  150000000  1513528810   \n",
       "1   76341  tt1392190                28.42  150000000   378436354   \n",
       "2  262500  tt2908446                13.11  110000000   295238201   \n",
       "\n",
       "       original_title                                               cast  \\\n",
       "0      Jurassic World  Chris Pratt|Bryce Dallas Howard|Irrfan Khan|Vi...   \n",
       "1  Mad Max: Fury Road  Tom Hardy|Charlize Theron|Hugh Keays-Byrne|Nic...   \n",
       "2           Insurgent  Shailene Woodley|Theo James|Kate Winslet|Ansel...   \n",
       "\n",
       "                                         homepage          director  \\\n",
       "0                   http://www.jurassicworld.com/   Colin Trevorrow   \n",
       "1                     http://www.madmaxmovie.com/     George Miller   \n",
       "2  http://www.thedivergentseries.movie/#insurgent  Robert Schwentke   \n",
       "\n",
       "                      tagline  ...  \\\n",
       "0           The park is open.  ...   \n",
       "1          What a Lovely Day.  ...   \n",
       "2  One Choice Can Destroy You  ...   \n",
       "\n",
       "                                            overview runtime  \\\n",
       "0  Twenty-two years after the events of Jurassic ...     124   \n",
       "1  An apocalyptic story set in the furthest reach...     120   \n",
       "2  Beatrice Prior must confront her inner demons ...     119   \n",
       "\n",
       "                                      genres  \\\n",
       "0  Action|Adventure|Science Fiction|Thriller   \n",
       "1  Action|Adventure|Science Fiction|Thriller   \n",
       "2         Adventure|Science Fiction|Thriller   \n",
       "\n",
       "                                production_companies release_date vote_count  \\\n",
       "0  Universal Studios|Amblin Entertainment|Legenda...       6/9/15       5562   \n",
       "1  Village Roadshow Pictures|Kennedy Miller Produ...      5/13/15       6185   \n",
       "2  Summit Entertainment|Mandeville Films|Red Wago...      3/18/15       2480   \n",
       "\n",
       "          vote_average  release_year           budget_adj          revenue_adj  \n",
       "0                 6.50          2015       137,999,939.28     1,392,445,892.52  \n",
       "1                 7.10          2015       137,999,939.28       348,161,292.49  \n",
       "2                 6.30          2015       101,199,955.47       271,619,025.41  \n",
       "\n",
       "[3 rows x 21 columns]"
      ]
     },
     "execution_count": 3,
     "metadata": {},
     "output_type": "execute_result"
    }
   ],
   "source": [
    "Movies.head(3)"
   ]
  },
  {
   "cell_type": "code",
   "execution_count": 4,
   "metadata": {},
   "outputs": [
    {
     "name": "stdout",
     "output_type": "stream",
     "text": [
      "Number of Data Samples: 10866\n",
      "Number of Features: 21\n"
     ]
    }
   ],
   "source": [
    "print('Number of Data Samples:', Movies.shape[0])\n",
    "print('Number of Features:', Movies.shape[1])"
   ]
  },
  {
   "cell_type": "code",
   "execution_count": 5,
   "metadata": {},
   "outputs": [
    {
     "name": "stdout",
     "output_type": "stream",
     "text": [
      "<class 'pandas.core.frame.DataFrame'>\n",
      "RangeIndex: 10866 entries, 0 to 10865\n",
      "Data columns (total 21 columns):\n",
      " #   Column                Non-Null Count  Dtype  \n",
      "---  ------                --------------  -----  \n",
      " 0   id                    10866 non-null  int64  \n",
      " 1   imdb_id               10856 non-null  object \n",
      " 2   popularity            10866 non-null  float64\n",
      " 3   budget                10866 non-null  int64  \n",
      " 4   revenue               10866 non-null  int64  \n",
      " 5   original_title        10866 non-null  object \n",
      " 6   cast                  10790 non-null  object \n",
      " 7   homepage              2936 non-null   object \n",
      " 8   director              10822 non-null  object \n",
      " 9   tagline               8042 non-null   object \n",
      " 10  keywords              9373 non-null   object \n",
      " 11  overview              10862 non-null  object \n",
      " 12  runtime               10866 non-null  int64  \n",
      " 13  genres                10843 non-null  object \n",
      " 14  production_companies  9836 non-null   object \n",
      " 15  release_date          10866 non-null  object \n",
      " 16  vote_count            10866 non-null  int64  \n",
      " 17  vote_average          10866 non-null  float64\n",
      " 18  release_year          10866 non-null  int64  \n",
      " 19  budget_adj            10866 non-null  float64\n",
      " 20  revenue_adj           10866 non-null  float64\n",
      "dtypes: float64(4), int64(6), object(11)\n",
      "memory usage: 1.7+ MB\n"
     ]
    }
   ],
   "source": [
    "Movies.info()"
   ]
  },
  {
   "cell_type": "code",
   "execution_count": 6,
   "metadata": {
    "scrolled": false
   },
   "outputs": [
    {
     "data": {
      "text/plain": [
       "id                      10865\n",
       "imdb_id                 10855\n",
       "popularity              10814\n",
       "budget                    557\n",
       "revenue                  4702\n",
       "original_title          10571\n",
       "cast                    10719\n",
       "homepage                 2896\n",
       "director                 5067\n",
       "tagline                  7997\n",
       "keywords                 8804\n",
       "overview                10847\n",
       "runtime                   247\n",
       "genres                   2039\n",
       "production_companies     7445\n",
       "release_date             5909\n",
       "vote_count               1289\n",
       "vote_average               72\n",
       "release_year               56\n",
       "budget_adj               2614\n",
       "revenue_adj              4840\n",
       "dtype: int64"
      ]
     },
     "execution_count": 6,
     "metadata": {},
     "output_type": "execute_result"
    }
   ],
   "source": [
    "Movies.nunique()"
   ]
  },
  {
   "cell_type": "code",
   "execution_count": 7,
   "metadata": {},
   "outputs": [
    {
     "name": "stdout",
     "output_type": "stream",
     "text": [
      "id type is:  <class 'numpy.int64'>\n",
      "imdb_id type is:  <class 'str'>\n",
      "popularity type is:  <class 'numpy.float64'>\n",
      "budget type is:  <class 'numpy.int64'>\n",
      "revenue type is:  <class 'numpy.int64'>\n",
      "original_title type is:  <class 'str'>\n",
      "cast type is:  <class 'str'>\n",
      "homepage type is:  <class 'str'>\n",
      "director type is:  <class 'str'>\n",
      "tagline type is:  <class 'str'>\n",
      "keywords type is:  <class 'str'>\n",
      "overview type is:  <class 'str'>\n",
      "runtime type is:  <class 'numpy.int64'>\n",
      "genres type is:  <class 'str'>\n",
      "production_companies type is:  <class 'str'>\n",
      "release_date type is:  <class 'str'>\n",
      "vote_count type is:  <class 'numpy.int64'>\n",
      "vote_average type is:  <class 'numpy.float64'>\n",
      "release_year type is:  <class 'numpy.int64'>\n",
      "budget_adj type is:  <class 'numpy.float64'>\n",
      "revenue_adj type is:  <class 'numpy.float64'>\n"
     ]
    }
   ],
   "source": [
    "for c in Movies.columns:\n",
    "    print(c,'type is: ', type(Movies[c][0]))"
   ]
  },
  {
   "cell_type": "markdown",
   "metadata": {},
   "source": [
    "### Notes: \n",
    "     1- Features like id and original_title need to be unique. \n",
    "     2- Datatypes have no problems but the release_date, needs to be converted into datetime.\n",
    "     3- Some features have missing values."
   ]
  },
  {
   "cell_type": "code",
   "execution_count": 8,
   "metadata": {},
   "outputs": [
    {
     "data": {
      "text/plain": [
       "1"
      ]
     },
     "execution_count": 8,
     "metadata": {},
     "output_type": "execute_result"
    }
   ],
   "source": [
    "sum(Movies.duplicated(['id']))"
   ]
  },
  {
   "cell_type": "code",
   "execution_count": 9,
   "metadata": {},
   "outputs": [
    {
     "data": {
      "text/html": [
       "<div>\n",
       "<style scoped>\n",
       "    .dataframe tbody tr th:only-of-type {\n",
       "        vertical-align: middle;\n",
       "    }\n",
       "\n",
       "    .dataframe tbody tr th {\n",
       "        vertical-align: top;\n",
       "    }\n",
       "\n",
       "    .dataframe thead th {\n",
       "        text-align: right;\n",
       "    }\n",
       "</style>\n",
       "<table border=\"1\" class=\"dataframe\">\n",
       "  <thead>\n",
       "    <tr style=\"text-align: right;\">\n",
       "      <th></th>\n",
       "      <th>id</th>\n",
       "      <th>imdb_id</th>\n",
       "      <th>popularity</th>\n",
       "      <th>budget</th>\n",
       "      <th>revenue</th>\n",
       "      <th>original_title</th>\n",
       "      <th>cast</th>\n",
       "      <th>homepage</th>\n",
       "      <th>director</th>\n",
       "      <th>tagline</th>\n",
       "      <th>...</th>\n",
       "      <th>overview</th>\n",
       "      <th>runtime</th>\n",
       "      <th>genres</th>\n",
       "      <th>production_companies</th>\n",
       "      <th>release_date</th>\n",
       "      <th>vote_count</th>\n",
       "      <th>vote_average</th>\n",
       "      <th>release_year</th>\n",
       "      <th>budget_adj</th>\n",
       "      <th>revenue_adj</th>\n",
       "    </tr>\n",
       "  </thead>\n",
       "  <tbody>\n",
       "    <tr>\n",
       "      <th>2090</th>\n",
       "      <td>42194</td>\n",
       "      <td>tt0411951</td>\n",
       "      <td>0.60</td>\n",
       "      <td>30000000</td>\n",
       "      <td>967000</td>\n",
       "      <td>TEKKEN</td>\n",
       "      <td>Jon Foo|Kelly Overton|Cary-Hiroyuki Tagawa|Ian...</td>\n",
       "      <td>NaN</td>\n",
       "      <td>Dwight H. Little</td>\n",
       "      <td>Survival is no game</td>\n",
       "      <td>...</td>\n",
       "      <td>In the year of 2039, after World Wars destroy ...</td>\n",
       "      <td>92</td>\n",
       "      <td>Crime|Drama|Action|Thriller|Science Fiction</td>\n",
       "      <td>Namco|Light Song Films</td>\n",
       "      <td>3/20/10</td>\n",
       "      <td>110</td>\n",
       "      <td>5.00</td>\n",
       "      <td>2010</td>\n",
       "      <td>30,000,000.00</td>\n",
       "      <td>967,000.00</td>\n",
       "    </tr>\n",
       "  </tbody>\n",
       "</table>\n",
       "<p>1 rows × 21 columns</p>\n",
       "</div>"
      ],
      "text/plain": [
       "         id    imdb_id           popularity    budget  revenue original_title  \\\n",
       "2090  42194  tt0411951                 0.60  30000000   967000         TEKKEN   \n",
       "\n",
       "                                                   cast homepage  \\\n",
       "2090  Jon Foo|Kelly Overton|Cary-Hiroyuki Tagawa|Ian...      NaN   \n",
       "\n",
       "              director              tagline  ...  \\\n",
       "2090  Dwight H. Little  Survival is no game  ...   \n",
       "\n",
       "                                               overview runtime  \\\n",
       "2090  In the year of 2039, after World Wars destroy ...      92   \n",
       "\n",
       "                                           genres    production_companies  \\\n",
       "2090  Crime|Drama|Action|Thriller|Science Fiction  Namco|Light Song Films   \n",
       "\n",
       "     release_date vote_count         vote_average  release_year  \\\n",
       "2090      3/20/10        110                 5.00          2010   \n",
       "\n",
       "               budget_adj          revenue_adj  \n",
       "2090        30,000,000.00           967,000.00  \n",
       "\n",
       "[1 rows x 21 columns]"
      ]
     },
     "execution_count": 9,
     "metadata": {},
     "output_type": "execute_result"
    }
   ],
   "source": [
    "Movies[Movies.duplicated(['id'])]"
   ]
  },
  {
   "cell_type": "code",
   "execution_count": 10,
   "metadata": {},
   "outputs": [
    {
     "data": {
      "text/plain": [
       "295"
      ]
     },
     "execution_count": 10,
     "metadata": {},
     "output_type": "execute_result"
    }
   ],
   "source": [
    "sum(Movies.duplicated(['original_title']))"
   ]
  },
  {
   "cell_type": "code",
   "execution_count": 11,
   "metadata": {},
   "outputs": [
    {
     "data": {
      "text/html": [
       "<div>\n",
       "<style scoped>\n",
       "    .dataframe tbody tr th:only-of-type {\n",
       "        vertical-align: middle;\n",
       "    }\n",
       "\n",
       "    .dataframe tbody tr th {\n",
       "        vertical-align: top;\n",
       "    }\n",
       "\n",
       "    .dataframe thead th {\n",
       "        text-align: right;\n",
       "    }\n",
       "</style>\n",
       "<table border=\"1\" class=\"dataframe\">\n",
       "  <thead>\n",
       "    <tr style=\"text-align: right;\">\n",
       "      <th></th>\n",
       "      <th>id</th>\n",
       "      <th>imdb_id</th>\n",
       "      <th>popularity</th>\n",
       "      <th>budget</th>\n",
       "      <th>revenue</th>\n",
       "      <th>original_title</th>\n",
       "      <th>cast</th>\n",
       "      <th>homepage</th>\n",
       "      <th>director</th>\n",
       "      <th>tagline</th>\n",
       "      <th>...</th>\n",
       "      <th>overview</th>\n",
       "      <th>runtime</th>\n",
       "      <th>genres</th>\n",
       "      <th>production_companies</th>\n",
       "      <th>release_date</th>\n",
       "      <th>vote_count</th>\n",
       "      <th>vote_average</th>\n",
       "      <th>release_year</th>\n",
       "      <th>budget_adj</th>\n",
       "      <th>revenue_adj</th>\n",
       "    </tr>\n",
       "  </thead>\n",
       "  <tbody>\n",
       "    <tr>\n",
       "      <th>1133</th>\n",
       "      <td>281778</td>\n",
       "      <td>tt3297792</td>\n",
       "      <td>0.19</td>\n",
       "      <td>0</td>\n",
       "      <td>0</td>\n",
       "      <td>Survivor</td>\n",
       "      <td>Danielle Chuchran|Kevin Sorbo|Rocky Myers|Ruby...</td>\n",
       "      <td>http://www.arrowstormentertainment.com/#!survi...</td>\n",
       "      <td>John Lyde</td>\n",
       "      <td>Alone. Stranded. Deadly</td>\n",
       "      <td>...</td>\n",
       "      <td>During their search for a habitable planet the...</td>\n",
       "      <td>93</td>\n",
       "      <td>Science Fiction|Action|Fantasy</td>\n",
       "      <td>Arrowstorm Entertainment</td>\n",
       "      <td>7/22/14</td>\n",
       "      <td>23</td>\n",
       "      <td>4.90</td>\n",
       "      <td>2014</td>\n",
       "      <td>0.00</td>\n",
       "      <td>0.00</td>\n",
       "    </tr>\n",
       "    <tr>\n",
       "      <th>1194</th>\n",
       "      <td>296626</td>\n",
       "      <td>tt3534842</td>\n",
       "      <td>0.13</td>\n",
       "      <td>0</td>\n",
       "      <td>0</td>\n",
       "      <td>Finders Keepers</td>\n",
       "      <td>Jaime Pressly|Kylie Rogers|Tobin Bell|Patrick ...</td>\n",
       "      <td>NaN</td>\n",
       "      <td>Alexander Yellen</td>\n",
       "      <td>NaN</td>\n",
       "      <td>...</td>\n",
       "      <td>A haunted doll teaches one little girl why chi...</td>\n",
       "      <td>85</td>\n",
       "      <td>Mystery|Thriller|Horror</td>\n",
       "      <td>HFD Productions|Hybrid LLC</td>\n",
       "      <td>10/18/14</td>\n",
       "      <td>33</td>\n",
       "      <td>4.80</td>\n",
       "      <td>2014</td>\n",
       "      <td>0.00</td>\n",
       "      <td>0.00</td>\n",
       "    </tr>\n",
       "  </tbody>\n",
       "</table>\n",
       "<p>2 rows × 21 columns</p>\n",
       "</div>"
      ],
      "text/plain": [
       "          id    imdb_id           popularity  budget  revenue  \\\n",
       "1133  281778  tt3297792                 0.19       0        0   \n",
       "1194  296626  tt3534842                 0.13       0        0   \n",
       "\n",
       "       original_title                                               cast  \\\n",
       "1133         Survivor  Danielle Chuchran|Kevin Sorbo|Rocky Myers|Ruby...   \n",
       "1194  Finders Keepers  Jaime Pressly|Kylie Rogers|Tobin Bell|Patrick ...   \n",
       "\n",
       "                                               homepage          director  \\\n",
       "1133  http://www.arrowstormentertainment.com/#!survi...         John Lyde   \n",
       "1194                                                NaN  Alexander Yellen   \n",
       "\n",
       "                      tagline  ...  \\\n",
       "1133  Alone. Stranded. Deadly  ...   \n",
       "1194                      NaN  ...   \n",
       "\n",
       "                                               overview runtime  \\\n",
       "1133  During their search for a habitable planet the...      93   \n",
       "1194  A haunted doll teaches one little girl why chi...      85   \n",
       "\n",
       "                              genres        production_companies release_date  \\\n",
       "1133  Science Fiction|Action|Fantasy    Arrowstorm Entertainment      7/22/14   \n",
       "1194         Mystery|Thriller|Horror  HFD Productions|Hybrid LLC     10/18/14   \n",
       "\n",
       "     vote_count         vote_average  release_year           budget_adj  \\\n",
       "1133         23                 4.90          2014                 0.00   \n",
       "1194         33                 4.80          2014                 0.00   \n",
       "\n",
       "              revenue_adj  \n",
       "1133                 0.00  \n",
       "1194                 0.00  \n",
       "\n",
       "[2 rows x 21 columns]"
      ]
     },
     "execution_count": 11,
     "metadata": {},
     "output_type": "execute_result"
    }
   ],
   "source": [
    "Movies[Movies.duplicated(['original_title'])].head(2)"
   ]
  },
  {
   "cell_type": "code",
   "execution_count": 12,
   "metadata": {},
   "outputs": [
    {
     "data": {
      "text/html": [
       "<div>\n",
       "<style scoped>\n",
       "    .dataframe tbody tr th:only-of-type {\n",
       "        vertical-align: middle;\n",
       "    }\n",
       "\n",
       "    .dataframe tbody tr th {\n",
       "        vertical-align: top;\n",
       "    }\n",
       "\n",
       "    .dataframe thead th {\n",
       "        text-align: right;\n",
       "    }\n",
       "</style>\n",
       "<table border=\"1\" class=\"dataframe\">\n",
       "  <thead>\n",
       "    <tr style=\"text-align: right;\">\n",
       "      <th></th>\n",
       "      <th>id</th>\n",
       "      <th>imdb_id</th>\n",
       "      <th>popularity</th>\n",
       "      <th>budget</th>\n",
       "      <th>revenue</th>\n",
       "      <th>original_title</th>\n",
       "      <th>cast</th>\n",
       "      <th>homepage</th>\n",
       "      <th>director</th>\n",
       "      <th>tagline</th>\n",
       "      <th>...</th>\n",
       "      <th>overview</th>\n",
       "      <th>runtime</th>\n",
       "      <th>genres</th>\n",
       "      <th>production_companies</th>\n",
       "      <th>release_date</th>\n",
       "      <th>vote_count</th>\n",
       "      <th>vote_average</th>\n",
       "      <th>release_year</th>\n",
       "      <th>budget_adj</th>\n",
       "      <th>revenue_adj</th>\n",
       "    </tr>\n",
       "  </thead>\n",
       "  <tbody>\n",
       "    <tr>\n",
       "      <th>67</th>\n",
       "      <td>334074</td>\n",
       "      <td>tt3247714</td>\n",
       "      <td>2.33</td>\n",
       "      <td>20000000</td>\n",
       "      <td>0</td>\n",
       "      <td>Survivor</td>\n",
       "      <td>Pierce Brosnan|Milla Jovovich|Dylan McDermott|...</td>\n",
       "      <td>http://survivormovie.com/</td>\n",
       "      <td>James McTeigue</td>\n",
       "      <td>His Next Target is Now Hunting Him</td>\n",
       "      <td>...</td>\n",
       "      <td>A Foreign Service Officer in London tries to p...</td>\n",
       "      <td>96</td>\n",
       "      <td>Crime|Thriller|Action</td>\n",
       "      <td>Nu Image Films|Winkler Films|Millennium Films|...</td>\n",
       "      <td>5/21/15</td>\n",
       "      <td>280</td>\n",
       "      <td>5.40</td>\n",
       "      <td>2015</td>\n",
       "      <td>18,399,991.90</td>\n",
       "      <td>0.00</td>\n",
       "    </tr>\n",
       "    <tr>\n",
       "      <th>1133</th>\n",
       "      <td>281778</td>\n",
       "      <td>tt3297792</td>\n",
       "      <td>0.19</td>\n",
       "      <td>0</td>\n",
       "      <td>0</td>\n",
       "      <td>Survivor</td>\n",
       "      <td>Danielle Chuchran|Kevin Sorbo|Rocky Myers|Ruby...</td>\n",
       "      <td>http://www.arrowstormentertainment.com/#!survi...</td>\n",
       "      <td>John Lyde</td>\n",
       "      <td>Alone. Stranded. Deadly</td>\n",
       "      <td>...</td>\n",
       "      <td>During their search for a habitable planet the...</td>\n",
       "      <td>93</td>\n",
       "      <td>Science Fiction|Action|Fantasy</td>\n",
       "      <td>Arrowstorm Entertainment</td>\n",
       "      <td>7/22/14</td>\n",
       "      <td>23</td>\n",
       "      <td>4.90</td>\n",
       "      <td>2014</td>\n",
       "      <td>0.00</td>\n",
       "      <td>0.00</td>\n",
       "    </tr>\n",
       "  </tbody>\n",
       "</table>\n",
       "<p>2 rows × 21 columns</p>\n",
       "</div>"
      ],
      "text/plain": [
       "          id    imdb_id           popularity    budget  revenue  \\\n",
       "67    334074  tt3247714                 2.33  20000000        0   \n",
       "1133  281778  tt3297792                 0.19         0        0   \n",
       "\n",
       "     original_title                                               cast  \\\n",
       "67         Survivor  Pierce Brosnan|Milla Jovovich|Dylan McDermott|...   \n",
       "1133       Survivor  Danielle Chuchran|Kevin Sorbo|Rocky Myers|Ruby...   \n",
       "\n",
       "                                               homepage        director  \\\n",
       "67                            http://survivormovie.com/  James McTeigue   \n",
       "1133  http://www.arrowstormentertainment.com/#!survi...       John Lyde   \n",
       "\n",
       "                                 tagline  ...  \\\n",
       "67    His Next Target is Now Hunting Him  ...   \n",
       "1133             Alone. Stranded. Deadly  ...   \n",
       "\n",
       "                                               overview runtime  \\\n",
       "67    A Foreign Service Officer in London tries to p...      96   \n",
       "1133  During their search for a habitable planet the...      93   \n",
       "\n",
       "                              genres  \\\n",
       "67             Crime|Thriller|Action   \n",
       "1133  Science Fiction|Action|Fantasy   \n",
       "\n",
       "                                   production_companies release_date  \\\n",
       "67    Nu Image Films|Winkler Films|Millennium Films|...      5/21/15   \n",
       "1133                           Arrowstorm Entertainment      7/22/14   \n",
       "\n",
       "     vote_count         vote_average  release_year           budget_adj  \\\n",
       "67          280                 5.40          2015        18,399,991.90   \n",
       "1133         23                 4.90          2014                 0.00   \n",
       "\n",
       "              revenue_adj  \n",
       "67                   0.00  \n",
       "1133                 0.00  \n",
       "\n",
       "[2 rows x 21 columns]"
      ]
     },
     "execution_count": 12,
     "metadata": {},
     "output_type": "execute_result"
    }
   ],
   "source": [
    "Movies[Movies.original_title == 'Survivor']"
   ]
  },
  {
   "cell_type": "markdown",
   "metadata": {},
   "source": [
    "### **Insight**: **From the Last cell above, I found that, Movies can have a similar title, but they are diffirent!**\n",
    "\n",
    "##### now i'll only drop the duplicated id number sample."
   ]
  },
  {
   "cell_type": "code",
   "execution_count": 13,
   "metadata": {},
   "outputs": [],
   "source": [
    "Movies.drop_duplicates(['id'], inplace=True)"
   ]
  },
  {
   "cell_type": "markdown",
   "metadata": {},
   "source": [
    "**Last Confirmation**"
   ]
  },
  {
   "cell_type": "code",
   "execution_count": 14,
   "metadata": {},
   "outputs": [
    {
     "data": {
      "text/plain": [
       "0"
      ]
     },
     "execution_count": 14,
     "metadata": {},
     "output_type": "execute_result"
    }
   ],
   "source": [
    "sum(Movies.id.duplicated())"
   ]
  },
  {
   "cell_type": "markdown",
   "metadata": {},
   "source": [
    "**PROVED.**\n",
    "\n",
    "---"
   ]
  },
  {
   "cell_type": "markdown",
   "metadata": {},
   "source": [
    "\n",
    "### Data Cleaning:"
   ]
  },
  {
   "cell_type": "markdown",
   "metadata": {},
   "source": [
    "**release_date feature isn't in its favourable datatype, it needs to be updated.**"
   ]
  },
  {
   "cell_type": "code",
   "execution_count": 15,
   "metadata": {},
   "outputs": [],
   "source": [
    "Movies['release_date'] = pd.to_datetime(Movies['release_date'])"
   ]
  },
  {
   "cell_type": "markdown",
   "metadata": {
    "collapsed": true
   },
   "source": [
    "---\n",
    "I've decided to drop columns that aren't important for this investigation. <br>\n",
    "Here are they:\n",
    "\n",
    "* **id**: As There are no duplicates any more, we won't need to look at movie id.\n",
    "* **imdb_id**: related to the previous IMDB data. \n",
    "* **budget**, **revenue**: budget_adj and revenue_adj are normalised to 2010 levels for more direct comparision.\n",
    "* **homepage**, **tagline**, **overview** and **keywords**: Unecessary to be used.\n",
    "\n",
    "---"
   ]
  },
  {
   "cell_type": "code",
   "execution_count": 16,
   "metadata": {},
   "outputs": [],
   "source": [
    "drop_list = ['id','imdb_id', 'budget', 'revenue', 'homepage', 'tagline', 'overview', 'keywords'] \n",
    "Movies.drop(drop_list, axis=1, inplace=True)"
   ]
  },
  {
   "cell_type": "code",
   "execution_count": 17,
   "metadata": {},
   "outputs": [
    {
     "name": "stdout",
     "output_type": "stream",
     "text": [
      "Index(['popularity', 'original_title', 'cast', 'director', 'runtime', 'genres',\n",
      "       'production_companies', 'release_date', 'vote_count', 'vote_average',\n",
      "       'release_year', 'budget_adj', 'revenue_adj'],\n",
      "      dtype='object')\n"
     ]
    }
   ],
   "source": [
    "print(Movies.columns)"
   ]
  },
  {
   "cell_type": "code",
   "execution_count": 18,
   "metadata": {},
   "outputs": [
    {
     "name": "stdout",
     "output_type": "stream",
     "text": [
      "<class 'pandas.core.frame.DataFrame'>\n",
      "Int64Index: 10865 entries, 0 to 10865\n",
      "Data columns (total 13 columns):\n",
      " #   Column                Non-Null Count  Dtype         \n",
      "---  ------                --------------  -----         \n",
      " 0   popularity            10865 non-null  float64       \n",
      " 1   original_title        10865 non-null  object        \n",
      " 2   cast                  10789 non-null  object        \n",
      " 3   director              10821 non-null  object        \n",
      " 4   runtime               10865 non-null  int64         \n",
      " 5   genres                10842 non-null  object        \n",
      " 6   production_companies  9835 non-null   object        \n",
      " 7   release_date          10865 non-null  datetime64[ns]\n",
      " 8   vote_count            10865 non-null  int64         \n",
      " 9   vote_average          10865 non-null  float64       \n",
      " 10  release_year          10865 non-null  int64         \n",
      " 11  budget_adj            10865 non-null  float64       \n",
      " 12  revenue_adj           10865 non-null  float64       \n",
      "dtypes: datetime64[ns](1), float64(4), int64(3), object(5)\n",
      "memory usage: 1.2+ MB\n"
     ]
    }
   ],
   "source": [
    "Movies.info()"
   ]
  },
  {
   "cell_type": "markdown",
   "metadata": {},
   "source": [
    "#### Now it's time to drop null values, Nan and also zeros."
   ]
  },
  {
   "cell_type": "code",
   "execution_count": 19,
   "metadata": {},
   "outputs": [
    {
     "data": {
      "text/plain": [
       "count              10,865.00\n",
       "mean           51,369,001.76\n",
       "std           144,638,333.13\n",
       "min                     0.00\n",
       "25%                     0.00\n",
       "50%                     0.00\n",
       "75%            33,701,729.01\n",
       "max         2,827,123,750.41\n",
       "Name: revenue_adj, dtype: float64"
      ]
     },
     "execution_count": 19,
     "metadata": {},
     "output_type": "execute_result"
    }
   ],
   "source": [
    "Movies.revenue_adj.describe()"
   ]
  },
  {
   "cell_type": "code",
   "execution_count": 20,
   "metadata": {},
   "outputs": [
    {
     "data": {
      "text/plain": [
       "(3854, 13)"
      ]
     },
     "execution_count": 20,
     "metadata": {},
     "output_type": "execute_result"
    }
   ],
   "source": [
    "#replace all the value from '0' to NAN \n",
    "Movies[['budget_adj', 'revenue_adj']] = Movies[['budget_adj', 'revenue_adj']].replace(0, np.NAN)\n",
    "\n",
    "Movies.dropna(subset = ['budget_adj', 'revenue_adj'], inplace = True)\n",
    "\n",
    "Movies.shape"
   ]
  },
  {
   "cell_type": "code",
   "execution_count": 21,
   "metadata": {},
   "outputs": [
    {
     "data": {
      "text/plain": [
       "count                    3854\n",
       "unique                   2885\n",
       "top       2014-12-25 00:00:00\n",
       "freq                        7\n",
       "first     1970-01-24 00:00:00\n",
       "last      2069-12-12 00:00:00\n",
       "Name: release_date, dtype: object"
      ]
     },
     "execution_count": 21,
     "metadata": {},
     "output_type": "execute_result"
    }
   ],
   "source": [
    "Movies.release_date.describe()"
   ]
  },
  {
   "cell_type": "code",
   "execution_count": 22,
   "metadata": {},
   "outputs": [
    {
     "data": {
      "text/plain": [
       "count               3,854.00\n",
       "mean                2,001.26\n",
       "std                    11.28\n",
       "min                 1,960.00\n",
       "25%                 1,995.00\n",
       "50%                 2,004.00\n",
       "75%                 2,010.00\n",
       "max                 2,015.00\n",
       "Name: release_year, dtype: float64"
      ]
     },
     "execution_count": 22,
     "metadata": {},
     "output_type": "execute_result"
    }
   ],
   "source": [
    "Movies.release_year.describe()"
   ]
  },
  {
   "cell_type": "markdown",
   "metadata": {},
   "source": [
    "## ***Another Insight:*** \n",
    "release_date has wrong values, some years are extremley wrong, but i'm not going to drop them, rather than drop the whole   column, and only keep release_year."
   ]
  },
  {
   "cell_type": "code",
   "execution_count": 23,
   "metadata": {},
   "outputs": [],
   "source": [
    "Movies.drop(['release_date'], axis=1, inplace=True)"
   ]
  },
  {
   "cell_type": "code",
   "execution_count": 24,
   "metadata": {},
   "outputs": [
    {
     "data": {
      "text/plain": [
       "Index(['popularity', 'original_title', 'cast', 'director', 'runtime', 'genres',\n",
       "       'production_companies', 'vote_count', 'vote_average', 'release_year',\n",
       "       'budget_adj', 'revenue_adj'],\n",
       "      dtype='object')"
      ]
     },
     "execution_count": 24,
     "metadata": {},
     "output_type": "execute_result"
    }
   ],
   "source": [
    "Movies.columns"
   ]
  },
  {
   "cell_type": "markdown",
   "metadata": {},
   "source": [
    "<a id='eda'></a>\n",
    "## Exploratory Data Analysis\n",
    "\n",
    "\n",
    "### Research Question 1: Most Profitable Movie."
   ]
  },
  {
   "cell_type": "code",
   "execution_count": 25,
   "metadata": {},
   "outputs": [],
   "source": [
    "Movies.insert(0,'profit_adj', Movies['revenue_adj']-Movies['budget_adj'])"
   ]
  },
  {
   "cell_type": "code",
   "execution_count": 26,
   "metadata": {
    "scrolled": true
   },
   "outputs": [
    {
     "data": {
      "text/html": [
       "<div>\n",
       "<style scoped>\n",
       "    .dataframe tbody tr th:only-of-type {\n",
       "        vertical-align: middle;\n",
       "    }\n",
       "\n",
       "    .dataframe tbody tr th {\n",
       "        vertical-align: top;\n",
       "    }\n",
       "\n",
       "    .dataframe thead th {\n",
       "        text-align: right;\n",
       "    }\n",
       "</style>\n",
       "<table border=\"1\" class=\"dataframe\">\n",
       "  <thead>\n",
       "    <tr style=\"text-align: right;\">\n",
       "      <th></th>\n",
       "      <th>profit_adj</th>\n",
       "      <th>popularity</th>\n",
       "      <th>original_title</th>\n",
       "      <th>cast</th>\n",
       "      <th>director</th>\n",
       "      <th>runtime</th>\n",
       "      <th>genres</th>\n",
       "      <th>production_companies</th>\n",
       "      <th>vote_count</th>\n",
       "      <th>vote_average</th>\n",
       "      <th>release_year</th>\n",
       "      <th>budget_adj</th>\n",
       "      <th>revenue_adj</th>\n",
       "    </tr>\n",
       "  </thead>\n",
       "  <tbody>\n",
       "    <tr>\n",
       "      <th>1329</th>\n",
       "      <td>2,750,136,650.92</td>\n",
       "      <td>12.04</td>\n",
       "      <td>Star Wars</td>\n",
       "      <td>Mark Hamill|Harrison Ford|Carrie Fisher|Peter ...</td>\n",
       "      <td>George Lucas</td>\n",
       "      <td>121</td>\n",
       "      <td>Adventure|Action|Science Fiction</td>\n",
       "      <td>Lucasfilm|Twentieth Century Fox Film Corporation</td>\n",
       "      <td>4428</td>\n",
       "      <td>7.90</td>\n",
       "      <td>1977</td>\n",
       "      <td>39,575,591.36</td>\n",
       "      <td>2,789,712,242.28</td>\n",
       "    </tr>\n",
       "  </tbody>\n",
       "</table>\n",
       "</div>"
      ],
      "text/plain": [
       "               profit_adj           popularity original_title  \\\n",
       "1329     2,750,136,650.92                12.04      Star Wars   \n",
       "\n",
       "                                                   cast      director  \\\n",
       "1329  Mark Hamill|Harrison Ford|Carrie Fisher|Peter ...  George Lucas   \n",
       "\n",
       "      runtime                            genres  \\\n",
       "1329      121  Adventure|Action|Science Fiction   \n",
       "\n",
       "                                  production_companies  vote_count  \\\n",
       "1329  Lucasfilm|Twentieth Century Fox Film Corporation        4428   \n",
       "\n",
       "             vote_average  release_year           budget_adj  \\\n",
       "1329                 7.90          1977        39,575,591.36   \n",
       "\n",
       "              revenue_adj  \n",
       "1329     2,789,712,242.28  "
      ]
     },
     "execution_count": 26,
     "metadata": {},
     "output_type": "execute_result"
    }
   ],
   "source": [
    "Movies[Movies['profit_adj'] == Movies['profit_adj'].max()] "
   ]
  },
  {
   "cell_type": "markdown",
   "metadata": {},
   "source": [
    "### Research Question 2: Movies average runtime."
   ]
  },
  {
   "cell_type": "markdown",
   "metadata": {},
   "source": [
    "Detecting the average, and analysing it graphically."
   ]
  },
  {
   "cell_type": "code",
   "execution_count": 27,
   "metadata": {},
   "outputs": [
    {
     "data": {
      "text/plain": [
       "109.22029060716139"
      ]
     },
     "execution_count": 27,
     "metadata": {},
     "output_type": "execute_result"
    }
   ],
   "source": [
    "Movies.runtime.mean()"
   ]
  },
  {
   "cell_type": "code",
   "execution_count": 28,
   "metadata": {},
   "outputs": [
    {
     "data": {
      "image/png": "[encoded data removed]",
      "text/plain": [
       "<Figure size 576x576 with 1 Axes>"
      ]
     },
     "metadata": {
      "needs_background": "light"
     },
     "output_type": "display_data"
    }
   ],
   "source": [
    "plt.figure(figsize=(8,8))\n",
    "plt.xlabel('Movies run-time')\n",
    "plt.ylabel('Movies counts')\n",
    "plt.title('Runtime Distribution')\n",
    "plt.hist(Movies['runtime'], bins=35, rwidth=0.8)\n",
    "plt.show();"
   ]
  },
  {
   "cell_type": "code",
   "execution_count": 29,
   "metadata": {},
   "outputs": [
    {
     "data": {
      "text/plain": [
       "count               3,854.00\n",
       "mean                  109.22\n",
       "std                    19.92\n",
       "min                    15.00\n",
       "25%                    95.00\n",
       "50%                   106.00\n",
       "75%                   119.00\n",
       "max                   338.00\n",
       "Name: runtime, dtype: float64"
      ]
     },
     "execution_count": 29,
     "metadata": {},
     "output_type": "execute_result"
    }
   ],
   "source": [
    "Movies['runtime'].describe()"
   ]
  },
  {
   "cell_type": "code",
   "execution_count": 30,
   "metadata": {},
   "outputs": [
    {
     "data": {
      "image/png": "[encoded data removed]",
      "text/plain": [
       "<Figure size 720x720 with 1 Axes>"
      ]
     },
     "metadata": {
      "needs_background": "light"
     },
     "output_type": "display_data"
    }
   ],
   "source": [
    "import seaborn as sns\n",
    "\n",
    "plt.figure(figsize=(10,10))\n",
    "sns.boxplot(Movies['runtime'], linewidth = 1)\n",
    "sns.swarmplot(Movies['runtime'], color = 'red')\n",
    "plt.show()"
   ]
  },
  {
   "cell_type": "markdown",
   "metadata": {},
   "source": [
    "##### Conclusions: \n",
    "\n",
    "---\n",
    "\n",
    "<ul>\n",
    "    <li> 25% of movies have a runtime of less than 95 minutes. </li>\n",
    "    <li> 50% of movies have a runtime of less than 109 minutes. </li>\n",
    "    <li> 75% of movies have a runtime of less than 119 minutes. </li>\n",
    "</ul>\n",
    "\n",
    "---"
   ]
  },
  {
   "cell_type": "markdown",
   "metadata": {},
   "source": [
    "### Research Question 3: Is there a relationship between release_year and profit?"
   ]
  },
  {
   "cell_type": "code",
   "execution_count": 31,
   "metadata": {},
   "outputs": [],
   "source": [
    "year_VS_profit = Movies.groupby('release_year')['profit_adj'].sum()"
   ]
  },
  {
   "cell_type": "code",
   "execution_count": 32,
   "metadata": {},
   "outputs": [
    {
     "data": {
      "image/png": "[encoded data removed]",
      "text/plain": [
       "<Figure size 720x720 with 1 Axes>"
      ]
     },
     "metadata": {
      "needs_background": "light"
     },
     "output_type": "display_data"
    }
   ],
   "source": [
    "plt.figure(figsize=(10,10))\n",
    "\n",
    "plt.xlabel('release_year')\n",
    "plt.ylabel('profit_adj')\n",
    "plt.title('year_VS_profit')\n",
    "plt.plot(year_VS_profit)\n",
    "plt.show()"
   ]
  },
  {
   "cell_type": "code",
   "execution_count": 33,
   "metadata": {},
   "outputs": [
    {
     "name": "stdout",
     "output_type": "stream",
     "text": [
      "2015\n"
     ]
    },
    {
     "data": {
      "text/html": [
       "<div>\n",
       "<style scoped>\n",
       "    .dataframe tbody tr th:only-of-type {\n",
       "        vertical-align: middle;\n",
       "    }\n",
       "\n",
       "    .dataframe tbody tr th {\n",
       "        vertical-align: top;\n",
       "    }\n",
       "\n",
       "    .dataframe thead th {\n",
       "        text-align: right;\n",
       "    }\n",
       "</style>\n",
       "<table border=\"1\" class=\"dataframe\">\n",
       "  <thead>\n",
       "    <tr style=\"text-align: right;\">\n",
       "      <th></th>\n",
       "      <th>profit_adj</th>\n",
       "      <th>popularity</th>\n",
       "      <th>original_title</th>\n",
       "      <th>cast</th>\n",
       "      <th>director</th>\n",
       "      <th>runtime</th>\n",
       "      <th>genres</th>\n",
       "      <th>production_companies</th>\n",
       "      <th>vote_count</th>\n",
       "      <th>vote_average</th>\n",
       "      <th>release_year</th>\n",
       "      <th>budget_adj</th>\n",
       "      <th>revenue_adj</th>\n",
       "    </tr>\n",
       "  </thead>\n",
       "  <tbody>\n",
       "    <tr>\n",
       "      <th>0</th>\n",
       "      <td>1,254,445,953.24</td>\n",
       "      <td>32.99</td>\n",
       "      <td>Jurassic World</td>\n",
       "      <td>Chris Pratt|Bryce Dallas Howard|Irrfan Khan|Vi...</td>\n",
       "      <td>Colin Trevorrow</td>\n",
       "      <td>124</td>\n",
       "      <td>Action|Adventure|Science Fiction|Thriller</td>\n",
       "      <td>Universal Studios|Amblin Entertainment|Legenda...</td>\n",
       "      <td>5562</td>\n",
       "      <td>6.50</td>\n",
       "      <td>2015</td>\n",
       "      <td>137,999,939.28</td>\n",
       "      <td>1,392,445,892.52</td>\n",
       "    </tr>\n",
       "    <tr>\n",
       "      <th>1</th>\n",
       "      <td>210,161,353.21</td>\n",
       "      <td>28.42</td>\n",
       "      <td>Mad Max: Fury Road</td>\n",
       "      <td>Tom Hardy|Charlize Theron|Hugh Keays-Byrne|Nic...</td>\n",
       "      <td>George Miller</td>\n",
       "      <td>120</td>\n",
       "      <td>Action|Adventure|Science Fiction|Thriller</td>\n",
       "      <td>Village Roadshow Pictures|Kennedy Miller Produ...</td>\n",
       "      <td>6185</td>\n",
       "      <td>7.10</td>\n",
       "      <td>2015</td>\n",
       "      <td>137,999,939.28</td>\n",
       "      <td>348,161,292.49</td>\n",
       "    </tr>\n",
       "    <tr>\n",
       "      <th>2</th>\n",
       "      <td>170,419,069.94</td>\n",
       "      <td>13.11</td>\n",
       "      <td>Insurgent</td>\n",
       "      <td>Shailene Woodley|Theo James|Kate Winslet|Ansel...</td>\n",
       "      <td>Robert Schwentke</td>\n",
       "      <td>119</td>\n",
       "      <td>Adventure|Science Fiction|Thriller</td>\n",
       "      <td>Summit Entertainment|Mandeville Films|Red Wago...</td>\n",
       "      <td>2480</td>\n",
       "      <td>6.30</td>\n",
       "      <td>2015</td>\n",
       "      <td>101,199,955.47</td>\n",
       "      <td>271,619,025.41</td>\n",
       "    </tr>\n",
       "    <tr>\n",
       "      <th>3</th>\n",
       "      <td>1,718,723,210.76</td>\n",
       "      <td>11.17</td>\n",
       "      <td>Star Wars: The Force Awakens</td>\n",
       "      <td>Harrison Ford|Mark Hamill|Carrie Fisher|Adam D...</td>\n",
       "      <td>J.J. Abrams</td>\n",
       "      <td>136</td>\n",
       "      <td>Action|Adventure|Science Fiction|Fantasy</td>\n",
       "      <td>Lucasfilm|Truenorth Productions|Bad Robot</td>\n",
       "      <td>5292</td>\n",
       "      <td>7.50</td>\n",
       "      <td>2015</td>\n",
       "      <td>183,999,919.04</td>\n",
       "      <td>1,902,723,129.80</td>\n",
       "    </tr>\n",
       "    <tr>\n",
       "      <th>4</th>\n",
       "      <td>1,210,948,878.38</td>\n",
       "      <td>9.34</td>\n",
       "      <td>Furious 7</td>\n",
       "      <td>Vin Diesel|Paul Walker|Jason Statham|Michelle ...</td>\n",
       "      <td>James Wan</td>\n",
       "      <td>137</td>\n",
       "      <td>Action|Crime|Thriller</td>\n",
       "      <td>Universal Pictures|Original Film|Media Rights ...</td>\n",
       "      <td>2947</td>\n",
       "      <td>7.30</td>\n",
       "      <td>2015</td>\n",
       "      <td>174,799,923.09</td>\n",
       "      <td>1,385,748,801.47</td>\n",
       "    </tr>\n",
       "    <tr>\n",
       "      <th>...</th>\n",
       "      <td>...</td>\n",
       "      <td>...</td>\n",
       "      <td>...</td>\n",
       "      <td>...</td>\n",
       "      <td>...</td>\n",
       "      <td>...</td>\n",
       "      <td>...</td>\n",
       "      <td>...</td>\n",
       "      <td>...</td>\n",
       "      <td>...</td>\n",
       "      <td>...</td>\n",
       "      <td>...</td>\n",
       "      <td>...</td>\n",
       "    </tr>\n",
       "    <tr>\n",
       "      <th>350</th>\n",
       "      <td>737,387.04</td>\n",
       "      <td>0.34</td>\n",
       "      <td>Captive</td>\n",
       "      <td>Kate Mara|David Oyelowo|Michael Kenneth Willia...</td>\n",
       "      <td>Jerry Jameson</td>\n",
       "      <td>97</td>\n",
       "      <td>Crime|Drama|Thriller</td>\n",
       "      <td>Itaca Films|BN Films|Brightside Entertainment|...</td>\n",
       "      <td>55</td>\n",
       "      <td>5.70</td>\n",
       "      <td>2015</td>\n",
       "      <td>1,839,999.19</td>\n",
       "      <td>2,577,386.23</td>\n",
       "    </tr>\n",
       "    <tr>\n",
       "      <th>380</th>\n",
       "      <td>-144,716.86</td>\n",
       "      <td>0.30</td>\n",
       "      <td>90 Minutes in Heaven</td>\n",
       "      <td>Kate Bosworth|Hayden Christensen|Hudson Meek|B...</td>\n",
       "      <td>Michael Polish</td>\n",
       "      <td>121</td>\n",
       "      <td>Drama</td>\n",
       "      <td>Emmett/Furla Films|Giving Films</td>\n",
       "      <td>24</td>\n",
       "      <td>5.70</td>\n",
       "      <td>2015</td>\n",
       "      <td>4,599,997.98</td>\n",
       "      <td>4,455,281.12</td>\n",
       "    </tr>\n",
       "    <tr>\n",
       "      <th>409</th>\n",
       "      <td>5,968,453.21</td>\n",
       "      <td>0.26</td>\n",
       "      <td>Grandma</td>\n",
       "      <td>Lily Tomlin|Julia Garner|Marcia Gay Harden|Jud...</td>\n",
       "      <td>Paul Weitz</td>\n",
       "      <td>78</td>\n",
       "      <td>Drama|Comedy</td>\n",
       "      <td>Depth of Field|1821 Pictures</td>\n",
       "      <td>81</td>\n",
       "      <td>5.60</td>\n",
       "      <td>2015</td>\n",
       "      <td>551,999.76</td>\n",
       "      <td>6,520,452.97</td>\n",
       "    </tr>\n",
       "    <tr>\n",
       "      <th>492</th>\n",
       "      <td>59,606,881.41</td>\n",
       "      <td>0.73</td>\n",
       "      <td>War Room</td>\n",
       "      <td>Priscilla C. Shirer|T.C. Stallings|Karen Aberc...</td>\n",
       "      <td>Alex Kendrick</td>\n",
       "      <td>120</td>\n",
       "      <td>Drama</td>\n",
       "      <td>Provident Films|Affirm Films|Kendrick Brothers...</td>\n",
       "      <td>57</td>\n",
       "      <td>6.90</td>\n",
       "      <td>2015</td>\n",
       "      <td>2,759,998.79</td>\n",
       "      <td>62,366,880.20</td>\n",
       "    </tr>\n",
       "    <tr>\n",
       "      <th>583</th>\n",
       "      <td>-12,247,334.53</td>\n",
       "      <td>0.08</td>\n",
       "      <td>Stonewall</td>\n",
       "      <td>Jeremy Irvine|Jonny Beauchamp|Jonathan Rhys Me...</td>\n",
       "      <td>Roland Emmerich</td>\n",
       "      <td>129</td>\n",
       "      <td>Drama</td>\n",
       "      <td>Centropolis Entertainment|Mel's Cite du Cinema</td>\n",
       "      <td>14</td>\n",
       "      <td>5.60</td>\n",
       "      <td>2015</td>\n",
       "      <td>12,419,994.54</td>\n",
       "      <td>172,660.00</td>\n",
       "    </tr>\n",
       "  </tbody>\n",
       "</table>\n",
       "<p>160 rows × 13 columns</p>\n",
       "</div>"
      ],
      "text/plain": [
       "              profit_adj           popularity                original_title  \\\n",
       "0       1,254,445,953.24                32.99                Jurassic World   \n",
       "1         210,161,353.21                28.42            Mad Max: Fury Road   \n",
       "2         170,419,069.94                13.11                     Insurgent   \n",
       "3       1,718,723,210.76                11.17  Star Wars: The Force Awakens   \n",
       "4       1,210,948,878.38                 9.34                     Furious 7   \n",
       "..                   ...                  ...                           ...   \n",
       "350           737,387.04                 0.34                       Captive   \n",
       "380          -144,716.86                 0.30          90 Minutes in Heaven   \n",
       "409         5,968,453.21                 0.26                       Grandma   \n",
       "492        59,606,881.41                 0.73                      War Room   \n",
       "583       -12,247,334.53                 0.08                     Stonewall   \n",
       "\n",
       "                                                  cast          director  \\\n",
       "0    Chris Pratt|Bryce Dallas Howard|Irrfan Khan|Vi...   Colin Trevorrow   \n",
       "1    Tom Hardy|Charlize Theron|Hugh Keays-Byrne|Nic...     George Miller   \n",
       "2    Shailene Woodley|Theo James|Kate Winslet|Ansel...  Robert Schwentke   \n",
       "3    Harrison Ford|Mark Hamill|Carrie Fisher|Adam D...       J.J. Abrams   \n",
       "4    Vin Diesel|Paul Walker|Jason Statham|Michelle ...         James Wan   \n",
       "..                                                 ...               ...   \n",
       "350  Kate Mara|David Oyelowo|Michael Kenneth Willia...     Jerry Jameson   \n",
       "380  Kate Bosworth|Hayden Christensen|Hudson Meek|B...    Michael Polish   \n",
       "409  Lily Tomlin|Julia Garner|Marcia Gay Harden|Jud...        Paul Weitz   \n",
       "492  Priscilla C. Shirer|T.C. Stallings|Karen Aberc...     Alex Kendrick   \n",
       "583  Jeremy Irvine|Jonny Beauchamp|Jonathan Rhys Me...   Roland Emmerich   \n",
       "\n",
       "     runtime                                     genres  \\\n",
       "0        124  Action|Adventure|Science Fiction|Thriller   \n",
       "1        120  Action|Adventure|Science Fiction|Thriller   \n",
       "2        119         Adventure|Science Fiction|Thriller   \n",
       "3        136   Action|Adventure|Science Fiction|Fantasy   \n",
       "4        137                      Action|Crime|Thriller   \n",
       "..       ...                                        ...   \n",
       "350       97                       Crime|Drama|Thriller   \n",
       "380      121                                      Drama   \n",
       "409       78                               Drama|Comedy   \n",
       "492      120                                      Drama   \n",
       "583      129                                      Drama   \n",
       "\n",
       "                                  production_companies  vote_count  \\\n",
       "0    Universal Studios|Amblin Entertainment|Legenda...        5562   \n",
       "1    Village Roadshow Pictures|Kennedy Miller Produ...        6185   \n",
       "2    Summit Entertainment|Mandeville Films|Red Wago...        2480   \n",
       "3            Lucasfilm|Truenorth Productions|Bad Robot        5292   \n",
       "4    Universal Pictures|Original Film|Media Rights ...        2947   \n",
       "..                                                 ...         ...   \n",
       "350  Itaca Films|BN Films|Brightside Entertainment|...          55   \n",
       "380                    Emmett/Furla Films|Giving Films          24   \n",
       "409                       Depth of Field|1821 Pictures          81   \n",
       "492  Provident Films|Affirm Films|Kendrick Brothers...          57   \n",
       "583     Centropolis Entertainment|Mel's Cite du Cinema          14   \n",
       "\n",
       "            vote_average  release_year           budget_adj  \\\n",
       "0                   6.50          2015       137,999,939.28   \n",
       "1                   7.10          2015       137,999,939.28   \n",
       "2                   6.30          2015       101,199,955.47   \n",
       "3                   7.50          2015       183,999,919.04   \n",
       "4                   7.30          2015       174,799,923.09   \n",
       "..                   ...           ...                  ...   \n",
       "350                 5.70          2015         1,839,999.19   \n",
       "380                 5.70          2015         4,599,997.98   \n",
       "409                 5.60          2015           551,999.76   \n",
       "492                 6.90          2015         2,759,998.79   \n",
       "583                 5.60          2015        12,419,994.54   \n",
       "\n",
       "             revenue_adj  \n",
       "0       1,392,445,892.52  \n",
       "1         348,161,292.49  \n",
       "2         271,619,025.41  \n",
       "3       1,902,723,129.80  \n",
       "4       1,385,748,801.47  \n",
       "..                   ...  \n",
       "350         2,577,386.23  \n",
       "380         4,455,281.12  \n",
       "409         6,520,452.97  \n",
       "492        62,366,880.20  \n",
       "583           172,660.00  \n",
       "\n",
       "[160 rows x 13 columns]"
      ]
     },
     "execution_count": 33,
     "metadata": {},
     "output_type": "execute_result"
    }
   ],
   "source": [
    "print(year_VS_profit.idxmax())\n",
    "Movies[Movies.release_year == year_VS_profit.idxmax()]"
   ]
  },
  {
   "cell_type": "markdown",
   "metadata": {},
   "source": [
    "### Conclusion: \n",
    "   From 1960 to 2015, The relationship between release_date and profit isn't linear of-course, but there's a positive correlation. Profits kept increasing a little more, and decrease a little bit till 2015, it reached its peak!"
   ]
  },
  {
   "cell_type": "markdown",
   "metadata": {},
   "source": [
    "### Research Question 4: Frequent Used Genres in Profitable Movies."
   ]
  },
  {
   "cell_type": "code",
   "execution_count": 34,
   "metadata": {},
   "outputs": [
    {
     "data": {
      "text/plain": [
       "count               3,854.00\n",
       "mean           92,824,697.22\n",
       "std           194,071,459.74\n",
       "min          -413,912,431.00\n",
       "25%            -1,504,994.63\n",
       "50%            27,370,641.16\n",
       "75%           107,454,751.41\n",
       "max         2,750,136,650.92\n",
       "Name: profit_adj, dtype: float64"
      ]
     },
     "execution_count": 34,
     "metadata": {},
     "output_type": "execute_result"
    }
   ],
   "source": [
    "Movies['profit_adj'].describe()"
   ]
  },
  {
   "cell_type": "code",
   "execution_count": 35,
   "metadata": {},
   "outputs": [],
   "source": [
    "df = Movies[Movies['profit_adj'] >= 75000000]"
   ]
  },
  {
   "cell_type": "markdown",
   "metadata": {},
   "source": [
    "I've Considerd that high-profit movies, have profits >= 75 millions."
   ]
  },
  {
   "cell_type": "code",
   "execution_count": 36,
   "metadata": {},
   "outputs": [],
   "source": [
    "df = df['genres'].str.cat(sep='|')\n",
    "df = pd.Series(df.split('|'))"
   ]
  },
  {
   "cell_type": "code",
   "execution_count": 37,
   "metadata": {
    "scrolled": true
   },
   "outputs": [
    {
     "data": {
      "text/plain": [
       "Drama              453\n",
       "Action             434\n",
       "Comedy             431\n",
       "Adventure          364\n",
       "Thriller           360\n",
       "Family             203\n",
       "Romance            202\n",
       "Science Fiction    196\n",
       "Crime              189\n",
       "Fantasy            179\n",
       "Animation          116\n",
       "Horror             106\n",
       "Mystery            101\n",
       "Music               50\n",
       "War                 49\n",
       "History             36\n",
       "Western             17\n",
       "Documentary          3\n",
       "dtype: int64"
      ]
     },
     "execution_count": 37,
     "metadata": {},
     "output_type": "execute_result"
    }
   ],
   "source": [
    "df.value_counts()"
   ]
  },
  {
   "cell_type": "code",
   "execution_count": 38,
   "metadata": {},
   "outputs": [],
   "source": [
    "genres_count = df.value_counts().sort_values(ascending = True)"
   ]
  },
  {
   "cell_type": "code",
   "execution_count": 39,
   "metadata": {},
   "outputs": [
    {
     "data": {
      "image/png": "[encoded data removed]",
      "text/plain": [
       "<Figure size 720x720 with 1 Axes>"
      ]
     },
     "metadata": {
      "needs_background": "light"
     },
     "output_type": "display_data"
    }
   ],
   "source": [
    "genres_count.plot.barh(figsize=[10,10], title = 'Most used genres in high-profit Movies')\n",
    "plt.show();"
   ]
  },
  {
   "cell_type": "markdown",
   "metadata": {},
   "source": [
    "<a id='conclusions'></a>\n",
    "## Conclusions\n",
    "\n",
    "> The dataset right now could be accepted for the proccess of solving describtive statistics questions. Zero values samples dropped, also Nan, and corrupt release_date. There's more processing done in-order to solve specific problems like that mentioned above, like counting the most used genres in the most profitable movies, considering that profitable movies have profits >= 75 millions.\n",
    "\n",
    "> There's a positive correlation between release_date and profit.\n",
    "\n",
    "> Drama - Action - Comedy - Adventure - Thriller are the most frequent used genres in high-profit movies.\n",
    "\n",
    "## Submitting your Project \n",
    "\n",
    "> Before you submit your project, you need to create a .html or .pdf version of this notebook in the workspace here. To do that, run the code cell below. If it worked correctly, you should get a return code of 0, and you should see the generated .html file in the workspace directory (click on the orange Jupyter icon in the upper left).\n",
    "\n",
    "> Alternatively, you can download this report as .html via the **File** > **Download as** submenu, and then manually upload it into the workspace directory by clicking on the orange Jupyter icon in the upper left, then using the Upload button.\n",
    "\n",
    "> Once you've done this, you can submit your project by clicking on the \"Submit Project\" button in the lower right here. This will create and submit a zip file with this .ipynb doc and the .html or .pdf version you created. Congratulations!"
   ]
  },
  {
   "cell_type": "code",
   "execution_count": 40,
   "metadata": {},
   "outputs": [
    {
     "data": {
      "text/plain": [
       "0"
      ]
     },
     "execution_count": 40,
     "metadata": {},
     "output_type": "execute_result"
    }
   ],
   "source": [
    "from subprocess import call\n",
    "call(['python', '-m', 'nbconvert', 'Investigate_a_Dataset.ipynb'])"
   ]
  },
  {
   "cell_type": "code",
   "execution_count": null,
   "metadata": {},
   "outputs": [],
   "source": []
  }
 ],
 "metadata": {
  "kernelspec": {
   "display_name": "Python 3",
   "language": "python",
   "name": "python3"
  },
  "language_info": {
   "codemirror_mode": {
    "name": "ipython",
    "version": 3
   },
   "file_extension": ".py",
   "mimetype": "text/x-python",
   "name": "python",
   "nbconvert_exporter": "python",
   "pygments_lexer": "ipython3",
   "version": "3.7.7"
  }
 },
 "nbformat": 4,
 "nbformat_minor": 2
}
